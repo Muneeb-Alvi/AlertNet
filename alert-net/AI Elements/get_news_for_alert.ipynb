{
 "cells": [
  {
   "cell_type": "code",
   "execution_count": 47,
   "metadata": {},
   "outputs": [],
   "source": [
    "import os\n",
    "NEWSORG_API_KEY = os.getenv('NEWORG_API_KEY')\n",
    "ALERT_DATA_PATH = \"./firebase/alerts.csv\""
   ]
  },
  {
   "cell_type": "code",
   "execution_count": 2,
   "metadata": {
    "scrolled": true
   },
   "outputs": [
    {
     "name": "stdout",
     "output_type": "stream",
     "text": [
      "Working\n"
     ]
    }
   ],
   "source": [
    "from ollama import chat\n",
    "from ollama import ChatResponse\n",
    "\n",
    "\n",
    "response: ChatResponse = chat(model='llama3', messages=[\n",
    "    {\n",
    "        \n",
    "        'role': 'user',\n",
    "        'content': 'Only say †he work \"Working\"',\n",
    "    },\n",
    "])\n",
    "\n",
    "print(response.message.content)"
   ]
  },
  {
   "cell_type": "code",
   "execution_count": 48,
   "metadata": {},
   "outputs": [
    {
     "name": "stdout",
     "output_type": "stream",
     "text": [
      "         latitude   longitude  num_affirmatives  num_responses     cluster  \\\n",
      "count  250.000000  250.000000        250.000000     250.000000  250.000000   \n",
      "mean    28.933467   35.861660         24.820000      34.968000   19.528000   \n",
      "std      2.241661    9.274623         14.412024      15.658471   22.654229   \n",
      "min     24.426816   31.200168          0.000000       2.000000    0.000000   \n",
      "25%     30.039081   31.218825         13.000000      22.000000    1.000000   \n",
      "50%     30.049077   31.242431         25.000000      34.500000   12.000000   \n",
      "75%     30.057574   31.264042         37.000000      48.750000   29.000000   \n",
      "max     30.064881   54.399346         50.000000      69.000000   82.000000   \n",
      "\n",
      "       prob_true_random_forrest  \n",
      "count                250.000000  \n",
      "mean                   0.665564  \n",
      "std                    0.159975  \n",
      "min                    0.107096  \n",
      "25%                    0.593105  \n",
      "50%                    0.693515  \n",
      "75%                    0.776237  \n",
      "max                    0.918902  \n"
     ]
    }
   ],
   "source": [
    "import pandas as pd\n",
    "\n",
    "# Read the CSV file into a DataFrame\n",
    "alert_df = pd.read_csv(ALERT_DATA_PATH)\n",
    "\n",
    "# Basic statistics\n",
    "print(alert_df.describe())"
   ]
  },
  {
   "cell_type": "code",
   "execution_count": 49,
   "metadata": {},
   "outputs": [
    {
     "data": {
      "application/vnd.jupyter.widget-view+json": {
       "model_id": "21ec4efde19d41f8bc16b219571e5582",
       "version_major": 2,
       "version_minor": 0
      },
      "text/plain": [
       "Output()"
      ]
     },
     "metadata": {},
     "output_type": "display_data"
    }
   ],
   "source": [
    "import ipywidgets as widgets\n",
    "from IPython.display import display\n",
    "\n",
    "# Display the first few rows as a table widget\n",
    "output_widget = widgets.Output()\n",
    "with output_widget:\n",
    "    display(alert_df.head())\n",
    "\n",
    "display(output_widget)"
   ]
  },
  {
   "cell_type": "code",
   "execution_count": 44,
   "metadata": {},
   "outputs": [],
   "source": [
    "import requests\n",
    "from time import sleep\n",
    "\n",
    "# Function to fetch related news using a web search API\n",
    "def get_related_news(query, num_results=5):\n",
    "    search_url = f\"https://newsapi.org/v2/everything?q={query}&sortBy=relevancy&apiKey={API_KEY}\"\n",
    "    \n",
    "    try:\n",
    "        response = requests.get(search_url)\n",
    "        response.raise_for_status()\n",
    "        news_data = response.json()\n",
    "\n",
    "        if news_data.get(\"articles\"):\n",
    "            return [\n",
    "                {\"title\": article[\"title\"], \"url\": article[\"url\"], \"source\": article[\"source\"][\"name\"]}\n",
    "                for article in news_data[\"articles\"][:num_results]\n",
    "            ]\n",
    "        return []\n",
    "    except requests.exceptions.RequestException as e:\n",
    "        print(f\"Error fetching news: {e}\")\n",
    "        return []"
   ]
  },
  {
   "cell_type": "code",
   "execution_count": 60,
   "metadata": {},
   "outputs": [],
   "source": [
    "from IPython.display import display\n",
    "\n",
    "\n",
    "# Iterate through rows and fetch related news\n",
    "processed_alert_df = alert_df.apply(lambda row: row.to_dict(), axis=1)\n",
    "results = {}\n",
    "for row in processed_alert_df[:5]:\n",
    "    # related_news = get_related_news(f\"{row['title']} {row['location_description']}\")\n",
    "    related_news = get_related_news(f\"{row['title']}\")\n",
    "    results[row['alert_id']] = related_news\n",
    "    sleep(0.5)  # Avoid API rate limits"
   ]
  },
  {
   "cell_type": "code",
   "execution_count": 61,
   "metadata": {},
   "outputs": [
    {
     "data": {
      "text/html": [
       "<div>\n",
       "<style scoped>\n",
       "    .dataframe tbody tr th:only-of-type {\n",
       "        vertical-align: middle;\n",
       "    }\n",
       "\n",
       "    .dataframe tbody tr th {\n",
       "        vertical-align: top;\n",
       "    }\n",
       "\n",
       "    .dataframe thead th {\n",
       "        text-align: right;\n",
       "    }\n",
       "</style>\n",
       "<table border=\"1\" class=\"dataframe\">\n",
       "  <thead>\n",
       "    <tr style=\"text-align: right;\">\n",
       "      <th></th>\n",
       "      <th>d6114146-192e-410a-9513-2c9c71736832</th>\n",
       "      <th>da87c183-aef2-4ed2-8623-056b34d071fe</th>\n",
       "      <th>e364c45e-08a5-4d91-b8d3-1e0fc8f93696</th>\n",
       "      <th>cf55cf93-68f8-4eee-a4fb-fd6deacabd16</th>\n",
       "      <th>5152ca9b-d2fb-4b8e-ad38-bc24105e9258</th>\n",
       "    </tr>\n",
       "  </thead>\n",
       "  <tbody>\n",
       "    <tr>\n",
       "      <th>0</th>\n",
       "      <td>{'title': 'Trumplican 6th Circuit Just Killed ...</td>\n",
       "      <td>{'title': 'How Disaster Provides Cover for Aut...</td>\n",
       "      <td>{'title': 'Looters dressed as firefighters, wa...</td>\n",
       "      <td>{'title': 'Looters dressed as firefighters, wa...</td>\n",
       "      <td>{'title': 'Esperts found new DoNot Team APT gr...</td>\n",
       "    </tr>\n",
       "    <tr>\n",
       "      <th>1</th>\n",
       "      <td>{'title': 'The most viewed articles of 2024', ...</td>\n",
       "      <td>{'title': 'New York Times Defends Mexican Cart...</td>\n",
       "      <td>{'title': 'Suspect arrested in the stabbing of...</td>\n",
       "      <td>{'title': 'Suspect arrested in the stabbing of...</td>\n",
       "      <td>{'title': 'Experts found multiple flaws in Mer...</td>\n",
       "    </tr>\n",
       "    <tr>\n",
       "      <th>2</th>\n",
       "      <td>{'title': 'New Orleans attacker had researched...</td>\n",
       "      <td>{'title': 'Trump versus the Gulf of Mexico', '...</td>\n",
       "      <td>{'title': 'Actor Saif Ali Khan injured in knif...</td>\n",
       "      <td>{'title': 'Actor Saif Ali Khan injured in knif...</td>\n",
       "      <td>{'title': 'Critical remote code execution bug ...</td>\n",
       "    </tr>\n",
       "    <tr>\n",
       "      <th>3</th>\n",
       "      <td>{'title': 'The Grift That Has Been Joe Biden',...</td>\n",
       "      <td>{'title': 'Illegal immigrant from Dominican Re...</td>\n",
       "      <td>{'title': 'Saif Ali Khan attacked: Minister de...</td>\n",
       "      <td>{'title': 'Saif Ali Khan attacked: Minister de...</td>\n",
       "      <td>{'title': 'MikroTik botnet relies on DNS misco...</td>\n",
       "    </tr>\n",
       "    <tr>\n",
       "      <th>4</th>\n",
       "      <td>{'title': 'Full NFL playoff picks with one sur...</td>\n",
       "      <td>{'title': 'Trump designates drug cartels as te...</td>\n",
       "      <td>{'title': 'Saif Ali Khan Stabbed: Star Attacke...</td>\n",
       "      <td>{'title': 'Saif Ali Khan Stabbed: Star Attacke...</td>\n",
       "      <td>{'title': 'DeepSeek database exposed highly se...</td>\n",
       "    </tr>\n",
       "  </tbody>\n",
       "</table>\n",
       "</div>"
      ],
      "text/plain": [
       "                d6114146-192e-410a-9513-2c9c71736832  \\\n",
       "0  {'title': 'Trumplican 6th Circuit Just Killed ...   \n",
       "1  {'title': 'The most viewed articles of 2024', ...   \n",
       "2  {'title': 'New Orleans attacker had researched...   \n",
       "3  {'title': 'The Grift That Has Been Joe Biden',...   \n",
       "4  {'title': 'Full NFL playoff picks with one sur...   \n",
       "\n",
       "                da87c183-aef2-4ed2-8623-056b34d071fe  \\\n",
       "0  {'title': 'How Disaster Provides Cover for Aut...   \n",
       "1  {'title': 'New York Times Defends Mexican Cart...   \n",
       "2  {'title': 'Trump versus the Gulf of Mexico', '...   \n",
       "3  {'title': 'Illegal immigrant from Dominican Re...   \n",
       "4  {'title': 'Trump designates drug cartels as te...   \n",
       "\n",
       "                e364c45e-08a5-4d91-b8d3-1e0fc8f93696  \\\n",
       "0  {'title': 'Looters dressed as firefighters, wa...   \n",
       "1  {'title': 'Suspect arrested in the stabbing of...   \n",
       "2  {'title': 'Actor Saif Ali Khan injured in knif...   \n",
       "3  {'title': 'Saif Ali Khan attacked: Minister de...   \n",
       "4  {'title': 'Saif Ali Khan Stabbed: Star Attacke...   \n",
       "\n",
       "                cf55cf93-68f8-4eee-a4fb-fd6deacabd16  \\\n",
       "0  {'title': 'Looters dressed as firefighters, wa...   \n",
       "1  {'title': 'Suspect arrested in the stabbing of...   \n",
       "2  {'title': 'Actor Saif Ali Khan injured in knif...   \n",
       "3  {'title': 'Saif Ali Khan attacked: Minister de...   \n",
       "4  {'title': 'Saif Ali Khan Stabbed: Star Attacke...   \n",
       "\n",
       "                5152ca9b-d2fb-4b8e-ad38-bc24105e9258  \n",
       "0  {'title': 'Esperts found new DoNot Team APT gr...  \n",
       "1  {'title': 'Experts found multiple flaws in Mer...  \n",
       "2  {'title': 'Critical remote code execution bug ...  \n",
       "3  {'title': 'MikroTik botnet relies on DNS misco...  \n",
       "4  {'title': 'DeepSeek database exposed highly se...  "
      ]
     },
     "metadata": {},
     "output_type": "display_data"
    }
   ],
   "source": [
    "news_df = pd.DataFrame(results)\n",
    "display(news_df)  # Displays a nicely formatted DataFrame in Jupyter"
   ]
  }
 ],
 "metadata": {
  "kernelspec": {
   "display_name": "Python 3 (ipykernel)",
   "language": "python",
   "name": "python3"
  },
  "language_info": {
   "codemirror_mode": {
    "name": "ipython",
    "version": 3
   },
   "file_extension": ".py",
   "mimetype": "text/x-python",
   "name": "python",
   "nbconvert_exporter": "python",
   "pygments_lexer": "ipython3",
   "version": "3.13.0"
  }
 },
 "nbformat": 4,
 "nbformat_minor": 4
}
